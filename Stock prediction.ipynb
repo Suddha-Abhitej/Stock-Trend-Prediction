{
 "cells": [
  {
   "cell_type": "code",
   "execution_count": 6,
   "id": "ff56d90c",
   "metadata": {},
   "outputs": [
    {
     "name": "stdout",
     "output_type": "stream",
     "text": [
      "Collecting pandas-datareader\n",
      "  Downloading pandas_datareader-0.10.0-py3-none-any.whl (109 kB)\n",
      "Requirement already satisfied: lxml in c:\\users\\abhit\\anaconda3\\lib\\site-packages (from pandas-datareader) (4.6.3)\n",
      "Requirement already satisfied: pandas>=0.23 in c:\\users\\abhit\\anaconda3\\lib\\site-packages (from pandas-datareader) (1.3.4)\n",
      "Requirement already satisfied: requests>=2.19.0 in c:\\users\\abhit\\anaconda3\\lib\\site-packages (from pandas-datareader) (2.26.0)\n",
      "Requirement already satisfied: pytz>=2017.3 in c:\\users\\abhit\\anaconda3\\lib\\site-packages (from pandas>=0.23->pandas-datareader) (2021.3)\n",
      "Requirement already satisfied: numpy>=1.17.3 in c:\\users\\abhit\\anaconda3\\lib\\site-packages (from pandas>=0.23->pandas-datareader) (1.20.3)\n",
      "Requirement already satisfied: python-dateutil>=2.7.3 in c:\\users\\abhit\\anaconda3\\lib\\site-packages (from pandas>=0.23->pandas-datareader) (2.8.2)\n",
      "Requirement already satisfied: six>=1.5 in c:\\users\\abhit\\anaconda3\\lib\\site-packages (from python-dateutil>=2.7.3->pandas>=0.23->pandas-datareader) (1.16.0)\n",
      "Requirement already satisfied: certifi>=2017.4.17 in c:\\users\\abhit\\anaconda3\\lib\\site-packages (from requests>=2.19.0->pandas-datareader) (2021.10.8)\n",
      "Requirement already satisfied: charset-normalizer~=2.0.0 in c:\\users\\abhit\\anaconda3\\lib\\site-packages (from requests>=2.19.0->pandas-datareader) (2.0.4)\n",
      "Requirement already satisfied: urllib3<1.27,>=1.21.1 in c:\\users\\abhit\\anaconda3\\lib\\site-packages (from requests>=2.19.0->pandas-datareader) (1.26.7)\n",
      "Requirement already satisfied: idna<4,>=2.5 in c:\\users\\abhit\\anaconda3\\lib\\site-packages (from requests>=2.19.0->pandas-datareader) (3.2)\n",
      "Installing collected packages: pandas-datareader\n",
      "Successfully installed pandas-datareader-0.10.0\n"
     ]
    }
   ],
   "source": [
    "!pip install pandas-datareader"
   ]
  },
  {
   "cell_type": "code",
   "execution_count": 7,
   "id": "04f16275",
   "metadata": {},
   "outputs": [],
   "source": [
    "import numpy as np\n",
    "import pandas as pd\n",
    "import matplotlib.pyplot as plt\n",
    "import pandas_datareader as data"
   ]
  },
  {
   "cell_type": "code",
   "execution_count": 8,
   "id": "069ef6ea",
   "metadata": {},
   "outputs": [
    {
     "data": {
      "text/html": [
       "<div>\n",
       "<style scoped>\n",
       "    .dataframe tbody tr th:only-of-type {\n",
       "        vertical-align: middle;\n",
       "    }\n",
       "\n",
       "    .dataframe tbody tr th {\n",
       "        vertical-align: top;\n",
       "    }\n",
       "\n",
       "    .dataframe thead th {\n",
       "        text-align: right;\n",
       "    }\n",
       "</style>\n",
       "<table border=\"1\" class=\"dataframe\">\n",
       "  <thead>\n",
       "    <tr style=\"text-align: right;\">\n",
       "      <th></th>\n",
       "      <th>High</th>\n",
       "      <th>Low</th>\n",
       "      <th>Open</th>\n",
       "      <th>Close</th>\n",
       "      <th>Volume</th>\n",
       "      <th>Adj Close</th>\n",
       "    </tr>\n",
       "    <tr>\n",
       "      <th>Date</th>\n",
       "      <th></th>\n",
       "      <th></th>\n",
       "      <th></th>\n",
       "      <th></th>\n",
       "      <th></th>\n",
       "      <th></th>\n",
       "    </tr>\n",
       "  </thead>\n",
       "  <tbody>\n",
       "    <tr>\n",
       "      <th>2007-12-31</th>\n",
       "      <td>7.160714</td>\n",
       "      <td>7.062500</td>\n",
       "      <td>7.125000</td>\n",
       "      <td>7.074286</td>\n",
       "      <td>5.393332e+08</td>\n",
       "      <td>6.030249</td>\n",
       "    </tr>\n",
       "    <tr>\n",
       "      <th>2008-01-02</th>\n",
       "      <td>7.152143</td>\n",
       "      <td>6.876786</td>\n",
       "      <td>7.116786</td>\n",
       "      <td>6.958571</td>\n",
       "      <td>1.079179e+09</td>\n",
       "      <td>5.931611</td>\n",
       "    </tr>\n",
       "    <tr>\n",
       "      <th>2008-01-03</th>\n",
       "      <td>7.049643</td>\n",
       "      <td>6.881786</td>\n",
       "      <td>6.978929</td>\n",
       "      <td>6.961786</td>\n",
       "      <td>8.420664e+08</td>\n",
       "      <td>5.934350</td>\n",
       "    </tr>\n",
       "    <tr>\n",
       "      <th>2008-01-04</th>\n",
       "      <td>6.892857</td>\n",
       "      <td>6.388929</td>\n",
       "      <td>6.837500</td>\n",
       "      <td>6.430357</td>\n",
       "      <td>1.455832e+09</td>\n",
       "      <td>5.481352</td>\n",
       "    </tr>\n",
       "    <tr>\n",
       "      <th>2008-01-07</th>\n",
       "      <td>6.557143</td>\n",
       "      <td>6.079643</td>\n",
       "      <td>6.473214</td>\n",
       "      <td>6.344286</td>\n",
       "      <td>2.072193e+09</td>\n",
       "      <td>5.407983</td>\n",
       "    </tr>\n",
       "  </tbody>\n",
       "</table>\n",
       "</div>"
      ],
      "text/plain": [
       "                High       Low      Open     Close        Volume  Adj Close\n",
       "Date                                                                       \n",
       "2007-12-31  7.160714  7.062500  7.125000  7.074286  5.393332e+08   6.030249\n",
       "2008-01-02  7.152143  6.876786  7.116786  6.958571  1.079179e+09   5.931611\n",
       "2008-01-03  7.049643  6.881786  6.978929  6.961786  8.420664e+08   5.934350\n",
       "2008-01-04  6.892857  6.388929  6.837500  6.430357  1.455832e+09   5.481352\n",
       "2008-01-07  6.557143  6.079643  6.473214  6.344286  2.072193e+09   5.407983"
      ]
     },
     "execution_count": 8,
     "metadata": {},
     "output_type": "execute_result"
    }
   ],
   "source": [
    "start = '2008-01-01'\n",
    "end = '2021-12-31'\n",
    "df = data.DataReader('AAPL','yahoo',start,end)\n",
    "df.head()"
   ]
  },
  {
   "cell_type": "code",
   "execution_count": 9,
   "id": "28b849d7",
   "metadata": {},
   "outputs": [
    {
     "data": {
      "text/html": [
       "<div>\n",
       "<style scoped>\n",
       "    .dataframe tbody tr th:only-of-type {\n",
       "        vertical-align: middle;\n",
       "    }\n",
       "\n",
       "    .dataframe tbody tr th {\n",
       "        vertical-align: top;\n",
       "    }\n",
       "\n",
       "    .dataframe thead th {\n",
       "        text-align: right;\n",
       "    }\n",
       "</style>\n",
       "<table border=\"1\" class=\"dataframe\">\n",
       "  <thead>\n",
       "    <tr style=\"text-align: right;\">\n",
       "      <th></th>\n",
       "      <th>High</th>\n",
       "      <th>Low</th>\n",
       "      <th>Open</th>\n",
       "      <th>Close</th>\n",
       "      <th>Volume</th>\n",
       "      <th>Adj Close</th>\n",
       "    </tr>\n",
       "    <tr>\n",
       "      <th>Date</th>\n",
       "      <th></th>\n",
       "      <th></th>\n",
       "      <th></th>\n",
       "      <th></th>\n",
       "      <th></th>\n",
       "      <th></th>\n",
       "    </tr>\n",
       "  </thead>\n",
       "  <tbody>\n",
       "    <tr>\n",
       "      <th>2021-12-27</th>\n",
       "      <td>180.419998</td>\n",
       "      <td>177.070007</td>\n",
       "      <td>177.089996</td>\n",
       "      <td>180.330002</td>\n",
       "      <td>74919600.0</td>\n",
       "      <td>179.289459</td>\n",
       "    </tr>\n",
       "    <tr>\n",
       "      <th>2021-12-28</th>\n",
       "      <td>181.330002</td>\n",
       "      <td>178.529999</td>\n",
       "      <td>180.160004</td>\n",
       "      <td>179.289993</td>\n",
       "      <td>79144300.0</td>\n",
       "      <td>178.255447</td>\n",
       "    </tr>\n",
       "    <tr>\n",
       "      <th>2021-12-29</th>\n",
       "      <td>180.630005</td>\n",
       "      <td>178.139999</td>\n",
       "      <td>179.330002</td>\n",
       "      <td>179.380005</td>\n",
       "      <td>62348900.0</td>\n",
       "      <td>178.344940</td>\n",
       "    </tr>\n",
       "    <tr>\n",
       "      <th>2021-12-30</th>\n",
       "      <td>180.570007</td>\n",
       "      <td>178.089996</td>\n",
       "      <td>179.470001</td>\n",
       "      <td>178.199997</td>\n",
       "      <td>59773000.0</td>\n",
       "      <td>177.171722</td>\n",
       "    </tr>\n",
       "    <tr>\n",
       "      <th>2021-12-31</th>\n",
       "      <td>179.229996</td>\n",
       "      <td>177.259995</td>\n",
       "      <td>178.089996</td>\n",
       "      <td>177.570007</td>\n",
       "      <td>64062300.0</td>\n",
       "      <td>176.545395</td>\n",
       "    </tr>\n",
       "  </tbody>\n",
       "</table>\n",
       "</div>"
      ],
      "text/plain": [
       "                  High         Low        Open       Close      Volume  \\\n",
       "Date                                                                     \n",
       "2021-12-27  180.419998  177.070007  177.089996  180.330002  74919600.0   \n",
       "2021-12-28  181.330002  178.529999  180.160004  179.289993  79144300.0   \n",
       "2021-12-29  180.630005  178.139999  179.330002  179.380005  62348900.0   \n",
       "2021-12-30  180.570007  178.089996  179.470001  178.199997  59773000.0   \n",
       "2021-12-31  179.229996  177.259995  178.089996  177.570007  64062300.0   \n",
       "\n",
       "             Adj Close  \n",
       "Date                    \n",
       "2021-12-27  179.289459  \n",
       "2021-12-28  178.255447  \n",
       "2021-12-29  178.344940  \n",
       "2021-12-30  177.171722  \n",
       "2021-12-31  176.545395  "
      ]
     },
     "execution_count": 9,
     "metadata": {},
     "output_type": "execute_result"
    }
   ],
   "source": [
    "df.tail()"
   ]
  },
  {
   "cell_type": "code",
   "execution_count": 10,
   "id": "f8e37229",
   "metadata": {},
   "outputs": [
    {
     "data": {
      "text/html": [
       "<div>\n",
       "<style scoped>\n",
       "    .dataframe tbody tr th:only-of-type {\n",
       "        vertical-align: middle;\n",
       "    }\n",
       "\n",
       "    .dataframe tbody tr th {\n",
       "        vertical-align: top;\n",
       "    }\n",
       "\n",
       "    .dataframe thead th {\n",
       "        text-align: right;\n",
       "    }\n",
       "</style>\n",
       "<table border=\"1\" class=\"dataframe\">\n",
       "  <thead>\n",
       "    <tr style=\"text-align: right;\">\n",
       "      <th></th>\n",
       "      <th>Date</th>\n",
       "      <th>High</th>\n",
       "      <th>Low</th>\n",
       "      <th>Open</th>\n",
       "      <th>Close</th>\n",
       "      <th>Volume</th>\n",
       "      <th>Adj Close</th>\n",
       "    </tr>\n",
       "  </thead>\n",
       "  <tbody>\n",
       "    <tr>\n",
       "      <th>0</th>\n",
       "      <td>2007-12-31</td>\n",
       "      <td>7.160714</td>\n",
       "      <td>7.062500</td>\n",
       "      <td>7.125000</td>\n",
       "      <td>7.074286</td>\n",
       "      <td>5.393332e+08</td>\n",
       "      <td>6.030249</td>\n",
       "    </tr>\n",
       "    <tr>\n",
       "      <th>1</th>\n",
       "      <td>2008-01-02</td>\n",
       "      <td>7.152143</td>\n",
       "      <td>6.876786</td>\n",
       "      <td>7.116786</td>\n",
       "      <td>6.958571</td>\n",
       "      <td>1.079179e+09</td>\n",
       "      <td>5.931611</td>\n",
       "    </tr>\n",
       "    <tr>\n",
       "      <th>2</th>\n",
       "      <td>2008-01-03</td>\n",
       "      <td>7.049643</td>\n",
       "      <td>6.881786</td>\n",
       "      <td>6.978929</td>\n",
       "      <td>6.961786</td>\n",
       "      <td>8.420664e+08</td>\n",
       "      <td>5.934350</td>\n",
       "    </tr>\n",
       "    <tr>\n",
       "      <th>3</th>\n",
       "      <td>2008-01-04</td>\n",
       "      <td>6.892857</td>\n",
       "      <td>6.388929</td>\n",
       "      <td>6.837500</td>\n",
       "      <td>6.430357</td>\n",
       "      <td>1.455832e+09</td>\n",
       "      <td>5.481352</td>\n",
       "    </tr>\n",
       "    <tr>\n",
       "      <th>4</th>\n",
       "      <td>2008-01-07</td>\n",
       "      <td>6.557143</td>\n",
       "      <td>6.079643</td>\n",
       "      <td>6.473214</td>\n",
       "      <td>6.344286</td>\n",
       "      <td>2.072193e+09</td>\n",
       "      <td>5.407983</td>\n",
       "    </tr>\n",
       "  </tbody>\n",
       "</table>\n",
       "</div>"
      ],
      "text/plain": [
       "        Date      High       Low      Open     Close        Volume  Adj Close\n",
       "0 2007-12-31  7.160714  7.062500  7.125000  7.074286  5.393332e+08   6.030249\n",
       "1 2008-01-02  7.152143  6.876786  7.116786  6.958571  1.079179e+09   5.931611\n",
       "2 2008-01-03  7.049643  6.881786  6.978929  6.961786  8.420664e+08   5.934350\n",
       "3 2008-01-04  6.892857  6.388929  6.837500  6.430357  1.455832e+09   5.481352\n",
       "4 2008-01-07  6.557143  6.079643  6.473214  6.344286  2.072193e+09   5.407983"
      ]
     },
     "execution_count": 10,
     "metadata": {},
     "output_type": "execute_result"
    }
   ],
   "source": [
    "df=df.reset_index()\n",
    "df.head()"
   ]
  },
  {
   "cell_type": "code",
   "execution_count": 11,
   "id": "ce385f93",
   "metadata": {},
   "outputs": [
    {
     "data": {
      "text/html": [
       "<div>\n",
       "<style scoped>\n",
       "    .dataframe tbody tr th:only-of-type {\n",
       "        vertical-align: middle;\n",
       "    }\n",
       "\n",
       "    .dataframe tbody tr th {\n",
       "        vertical-align: top;\n",
       "    }\n",
       "\n",
       "    .dataframe thead th {\n",
       "        text-align: right;\n",
       "    }\n",
       "</style>\n",
       "<table border=\"1\" class=\"dataframe\">\n",
       "  <thead>\n",
       "    <tr style=\"text-align: right;\">\n",
       "      <th></th>\n",
       "      <th>High</th>\n",
       "      <th>Low</th>\n",
       "      <th>Open</th>\n",
       "      <th>Close</th>\n",
       "      <th>Volume</th>\n",
       "    </tr>\n",
       "  </thead>\n",
       "  <tbody>\n",
       "    <tr>\n",
       "      <th>0</th>\n",
       "      <td>7.160714</td>\n",
       "      <td>7.062500</td>\n",
       "      <td>7.125000</td>\n",
       "      <td>7.074286</td>\n",
       "      <td>5.393332e+08</td>\n",
       "    </tr>\n",
       "    <tr>\n",
       "      <th>1</th>\n",
       "      <td>7.152143</td>\n",
       "      <td>6.876786</td>\n",
       "      <td>7.116786</td>\n",
       "      <td>6.958571</td>\n",
       "      <td>1.079179e+09</td>\n",
       "    </tr>\n",
       "    <tr>\n",
       "      <th>2</th>\n",
       "      <td>7.049643</td>\n",
       "      <td>6.881786</td>\n",
       "      <td>6.978929</td>\n",
       "      <td>6.961786</td>\n",
       "      <td>8.420664e+08</td>\n",
       "    </tr>\n",
       "    <tr>\n",
       "      <th>3</th>\n",
       "      <td>6.892857</td>\n",
       "      <td>6.388929</td>\n",
       "      <td>6.837500</td>\n",
       "      <td>6.430357</td>\n",
       "      <td>1.455832e+09</td>\n",
       "    </tr>\n",
       "    <tr>\n",
       "      <th>4</th>\n",
       "      <td>6.557143</td>\n",
       "      <td>6.079643</td>\n",
       "      <td>6.473214</td>\n",
       "      <td>6.344286</td>\n",
       "      <td>2.072193e+09</td>\n",
       "    </tr>\n",
       "  </tbody>\n",
       "</table>\n",
       "</div>"
      ],
      "text/plain": [
       "       High       Low      Open     Close        Volume\n",
       "0  7.160714  7.062500  7.125000  7.074286  5.393332e+08\n",
       "1  7.152143  6.876786  7.116786  6.958571  1.079179e+09\n",
       "2  7.049643  6.881786  6.978929  6.961786  8.420664e+08\n",
       "3  6.892857  6.388929  6.837500  6.430357  1.455832e+09\n",
       "4  6.557143  6.079643  6.473214  6.344286  2.072193e+09"
      ]
     },
     "execution_count": 11,
     "metadata": {},
     "output_type": "execute_result"
    }
   ],
   "source": [
    "df= df.drop(['Date','Adj Close'],axis = 1)\n",
    "df.head()"
   ]
  },
  {
   "cell_type": "code",
   "execution_count": 12,
   "id": "17df0d5d",
   "metadata": {},
   "outputs": [
    {
     "data": {
      "text/plain": [
       "[<matplotlib.lines.Line2D at 0x1f859e3fd30>]"
      ]
     },
     "execution_count": 12,
     "metadata": {},
     "output_type": "execute_result"
    },
    {
     "data": {
      "image/png": "[encoded data removed]",
      "text/plain": [
       "<Figure size 432x288 with 1 Axes>"
      ]
     },
     "metadata": {
      "needs_background": "light"
     },
     "output_type": "display_data"
    }
   ],
   "source": [
    "plt.plot(df.Close)"
   ]
  },
  {
   "cell_type": "code",
   "execution_count": 14,
   "id": "303c3882",
   "metadata": {},
   "outputs": [
    {
     "data": {
      "text/plain": [
       "0            NaN\n",
       "1            NaN\n",
       "2            NaN\n",
       "3            NaN\n",
       "4            NaN\n",
       "          ...   \n",
       "3522    153.3444\n",
       "3523    153.6667\n",
       "3524    153.9991\n",
       "3525    154.3202\n",
       "3526    154.6399\n",
       "Name: Close, Length: 3527, dtype: float64"
      ]
     },
     "execution_count": 14,
     "metadata": {},
     "output_type": "execute_result"
    }
   ],
   "source": [
    "ma100 = df.Close.rolling(100).mean()\n",
    "ma100"
   ]
  },
  {
   "cell_type": "code",
   "execution_count": 15,
   "id": "37196f3e",
   "metadata": {},
   "outputs": [
    {
     "data": {
      "text/plain": [
       "[<matplotlib.lines.Line2D at 0x1f859e22ac0>]"
      ]
     },
     "execution_count": 15,
     "metadata": {},
     "output_type": "execute_result"
    },
    {
     "data": {
      "image/png": "[encoded data removed]",
      "text/plain": [
       "<Figure size 864x432 with 1 Axes>"
      ]
     },
     "metadata": {
      "needs_background": "light"
     },
     "output_type": "display_data"
    }
   ],
   "source": [
    "plt.figure(figsize = (12,6))\n",
    "plt.plot(df.Close)\n",
    "plt.plot(ma100,'r')"
   ]
  },
  {
   "cell_type": "code",
   "execution_count": 16,
   "id": "9aee7564",
   "metadata": {},
   "outputs": [
    {
     "data": {
      "text/plain": [
       "0             NaN\n",
       "1             NaN\n",
       "2             NaN\n",
       "3             NaN\n",
       "4             NaN\n",
       "          ...    \n",
       "3522    142.85570\n",
       "3523    143.13220\n",
       "3524    143.40125\n",
       "3525    143.66845\n",
       "3526    143.95365\n",
       "Name: Close, Length: 3527, dtype: float64"
      ]
     },
     "execution_count": 16,
     "metadata": {},
     "output_type": "execute_result"
    }
   ],
   "source": [
    "ma200 = df.Close.rolling(200).mean()\n",
    "ma200"
   ]
  },
  {
   "cell_type": "code",
   "execution_count": 17,
   "id": "37d14d41",
   "metadata": {},
   "outputs": [
    {
     "data": {
      "text/plain": [
       "[<matplotlib.lines.Line2D at 0x1f85a43d0d0>]"
      ]
     },
     "execution_count": 17,
     "metadata": {},
     "output_type": "execute_result"
    },
    {
     "data": {
      "image/png": "[encoded data removed]",
      "text/plain": [
       "<Figure size 864x432 with 1 Axes>"
      ]
     },
     "metadata": {
      "needs_background": "light"
     },
     "output_type": "display_data"
    }
   ],
   "source": [
    "plt.figure(figsize = (12,6))\n",
    "plt.plot(df.Close)\n",
    "plt.plot(ma100,'r')\n",
    "plt.plot(ma200,'g')"
   ]
  },
  {
   "cell_type": "code",
   "execution_count": 18,
   "id": "f18061cc",
   "metadata": {},
   "outputs": [
    {
     "name": "stdout",
     "output_type": "stream",
     "text": [
      "(2468, 1)\n",
      "(1059, 1)\n"
     ]
    }
   ],
   "source": [
    "# spliting data into training and testing\n",
    "data_training = pd.DataFrame(df['Close'][0:int(len(df)*0.70)])\n",
    "data_testing = pd.DataFrame(df['Close'][int(len(df)*0.70):int(len(df))])\n",
    "print(data_training.shape)\n",
    "print(data_testing.shape)"
   ]
  },
  {
   "cell_type": "code",
   "execution_count": 19,
   "id": "8d8314b3",
   "metadata": {},
   "outputs": [
    {
     "data": {
      "text/plain": [
       "array([[0.11202169],\n",
       "       [0.10899406],\n",
       "       [0.10907817],\n",
       "       ...,\n",
       "       [0.95381958],\n",
       "       [0.97272346],\n",
       "       [0.97658271]])"
      ]
     },
     "execution_count": 19,
     "metadata": {},
     "output_type": "execute_result"
    }
   ],
   "source": [
    "from sklearn.preprocessing import MinMaxScaler\n",
    "\n",
    "# create the scaler object\n",
    "scaler = MinMaxScaler(feature_range=(0, 1))\n",
    "\n",
    "data_training_array = scaler.fit_transform(data_training)\n",
    "data_training_array"
   ]
  },
  {
   "cell_type": "code",
   "execution_count": 22,
   "id": "a2ebd909",
   "metadata": {},
   "outputs": [],
   "source": [
    "x_train = []\n",
    "y_train = []\n",
    "\n",
    "for i in range(100,data_training_array.shape[0]):\n",
    "    x_train.append(data_training_array[i-100: i])\n",
    "    y_train.append(data_training_array[i,0])\n",
    "x_train,y_train = np.array(x_train),np.array(y_train)    "
   ]
  },
  {
   "cell_type": "code",
   "execution_count": 24,
   "id": "9a6b3e39",
   "metadata": {},
   "outputs": [],
   "source": [
    "# Ml model\n",
    "from keras.layers import Dense,Dropout,LSTM\n",
    "from keras.models import Sequential"
   ]
  },
  {
   "cell_type": "code",
   "execution_count": 25,
   "id": "65700532",
   "metadata": {},
   "outputs": [],
   "source": [
    "model = Sequential()\n",
    "model.add(LSTM(units = 50,activation = 'relu',return_sequences= True,input_shape = (x_train.shape[1],1)))\n",
    "model.add(Dropout(0.2))\n",
    "\n",
    "\n",
    "model.add(LSTM(units = 60,activation = 'relu',return_sequences= True))\n",
    "model.add(Dropout(0.3))\n",
    "\n",
    "\n",
    "\n",
    "model.add(LSTM(units = 80,activation = 'relu',return_sequences= True))\n",
    "model.add(Dropout(0.4))\n",
    "\n",
    "\n",
    "\n",
    "model.add(LSTM(units = 120,activation = 'relu'))\n",
    "model.add(Dropout(0.5))\n",
    "\n",
    "\n",
    "model.add(Dense(units = 1))\n"
   ]
  },
  {
   "cell_type": "code",
   "execution_count": 26,
   "id": "1469bf72",
   "metadata": {},
   "outputs": [
    {
     "name": "stdout",
     "output_type": "stream",
     "text": [
      "Model: \"sequential\"\n",
      "_________________________________________________________________\n",
      " Layer (type)                Output Shape              Param #   \n",
      "=================================================================\n",
      " lstm (LSTM)                 (None, 100, 50)           10400     \n",
      "                                                                 \n",
      " dropout (Dropout)           (None, 100, 50)           0         \n",
      "                                                                 \n",
      " lstm_1 (LSTM)               (None, 100, 60)           26640     \n",
      "                                                                 \n",
      " dropout_1 (Dropout)         (None, 100, 60)           0         \n",
      "                                                                 \n",
      " lstm_2 (LSTM)               (None, 100, 80)           45120     \n",
      "                                                                 \n",
      " dropout_2 (Dropout)         (None, 100, 80)           0         \n",
      "                                                                 \n",
      " lstm_3 (LSTM)               (None, 120)               96480     \n",
      "                                                                 \n",
      " dropout_3 (Dropout)         (None, 120)               0         \n",
      "                                                                 \n",
      " dense (Dense)               (None, 1)                 121       \n",
      "                                                                 \n",
      "=================================================================\n",
      "Total params: 178,761\n",
      "Trainable params: 178,761\n",
      "Non-trainable params: 0\n",
      "_________________________________________________________________\n"
     ]
    }
   ],
   "source": [
    "model.summary()"
   ]
  },
  {
   "cell_type": "code",
   "execution_count": 27,
   "id": "3ba27c42",
   "metadata": {},
   "outputs": [
    {
     "name": "stdout",
     "output_type": "stream",
     "text": [
      "Epoch 1/55\n",
      "74/74 [==============================] - 14s 145ms/step - loss: 0.0380\n",
      "Epoch 2/55\n",
      "74/74 [==============================] - 11s 144ms/step - loss: 0.0086\n",
      "Epoch 3/55\n",
      "74/74 [==============================] - 11s 144ms/step - loss: 0.0080\n",
      "Epoch 4/55\n",
      "74/74 [==============================] - 10s 137ms/step - loss: 0.0070\n",
      "Epoch 5/55\n",
      "74/74 [==============================] - 10s 136ms/step - loss: 0.0062\n",
      "Epoch 6/55\n",
      "74/74 [==============================] - 10s 136ms/step - loss: 0.0059\n",
      "Epoch 7/55\n",
      "74/74 [==============================] - 10s 138ms/step - loss: 0.0054\n",
      "Epoch 8/55\n",
      "74/74 [==============================] - 10s 136ms/step - loss: 0.0054\n",
      "Epoch 9/55\n",
      "74/74 [==============================] - 10s 138ms/step - loss: 0.0047\n",
      "Epoch 10/55\n",
      "74/74 [==============================] - 10s 140ms/step - loss: 0.0049\n",
      "Epoch 11/55\n",
      "74/74 [==============================] - 10s 137ms/step - loss: 0.0048\n",
      "Epoch 12/55\n",
      "74/74 [==============================] - 10s 139ms/step - loss: 0.0040\n",
      "Epoch 13/55\n",
      "74/74 [==============================] - 10s 140ms/step - loss: 0.0045\n",
      "Epoch 14/55\n",
      "74/74 [==============================] - 10s 139ms/step - loss: 0.0040\n",
      "Epoch 15/55\n",
      "74/74 [==============================] - 10s 141ms/step - loss: 0.0037\n",
      "Epoch 16/55\n",
      "74/74 [==============================] - 10s 142ms/step - loss: 0.0033\n",
      "Epoch 17/55\n",
      "74/74 [==============================] - 11s 145ms/step - loss: 0.0039\n",
      "Epoch 18/55\n",
      "74/74 [==============================] - 11s 142ms/step - loss: 0.0035\n",
      "Epoch 19/55\n",
      "74/74 [==============================] - 11s 143ms/step - loss: 0.0036\n",
      "Epoch 20/55\n",
      "74/74 [==============================] - 11s 143ms/step - loss: 0.0033\n",
      "Epoch 21/55\n",
      "74/74 [==============================] - 11s 144ms/step - loss: 0.0031\n",
      "Epoch 22/55\n",
      "74/74 [==============================] - 11s 147ms/step - loss: 0.0033\n",
      "Epoch 23/55\n",
      "74/74 [==============================] - 11s 144ms/step - loss: 0.0030\n",
      "Epoch 24/55\n",
      "74/74 [==============================] - 11s 144ms/step - loss: 0.0031\n",
      "Epoch 25/55\n",
      "74/74 [==============================] - 12s 166ms/step - loss: 0.0028\n",
      "Epoch 26/55\n",
      "74/74 [==============================] - 13s 170ms/step - loss: 0.0030\n",
      "Epoch 27/55\n",
      "74/74 [==============================] - 13s 171ms/step - loss: 0.0027\n",
      "Epoch 28/55\n",
      "74/74 [==============================] - 13s 175ms/step - loss: 0.0024\n",
      "Epoch 29/55\n",
      "74/74 [==============================] - 13s 171ms/step - loss: 0.0025\n",
      "Epoch 30/55\n",
      "74/74 [==============================] - 12s 164ms/step - loss: 0.0026\n",
      "Epoch 31/55\n",
      "74/74 [==============================] - 12s 158ms/step - loss: 0.0026\n",
      "Epoch 32/55\n",
      "74/74 [==============================] - 11s 144ms/step - loss: 0.0026\n",
      "Epoch 33/55\n",
      "74/74 [==============================] - 11s 142ms/step - loss: 0.0023\n",
      "Epoch 34/55\n",
      "74/74 [==============================] - 10s 141ms/step - loss: 0.0023\n",
      "Epoch 35/55\n",
      "74/74 [==============================] - 11s 143ms/step - loss: 0.0024\n",
      "Epoch 36/55\n",
      "74/74 [==============================] - 11s 143ms/step - loss: 0.0024\n",
      "Epoch 37/55\n",
      "74/74 [==============================] - 11s 143ms/step - loss: 0.0024\n",
      "Epoch 38/55\n",
      "74/74 [==============================] - 11s 144ms/step - loss: 0.0022\n",
      "Epoch 39/55\n",
      "74/74 [==============================] - 11s 145ms/step - loss: 0.0023\n",
      "Epoch 40/55\n",
      "74/74 [==============================] - 11s 144ms/step - loss: 0.0024\n",
      "Epoch 41/55\n",
      "74/74 [==============================] - 11s 144ms/step - loss: 0.0022\n",
      "Epoch 42/55\n",
      "74/74 [==============================] - 11s 144ms/step - loss: 0.0022\n",
      "Epoch 43/55\n",
      "74/74 [==============================] - 11s 143ms/step - loss: 0.0023\n",
      "Epoch 44/55\n",
      "74/74 [==============================] - 11s 144ms/step - loss: 0.0021\n",
      "Epoch 45/55\n",
      "74/74 [==============================] - 11s 145ms/step - loss: 0.0020\n",
      "Epoch 46/55\n",
      "74/74 [==============================] - 11s 143ms/step - loss: 0.0021\n",
      "Epoch 47/55\n",
      "74/74 [==============================] - 11s 147ms/step - loss: 0.0022\n",
      "Epoch 48/55\n",
      "74/74 [==============================] - 11s 147ms/step - loss: 0.0021\n",
      "Epoch 49/55\n",
      "74/74 [==============================] - 11s 144ms/step - loss: 0.0021\n",
      "Epoch 50/55\n",
      "74/74 [==============================] - 11s 145ms/step - loss: 0.0021\n",
      "Epoch 51/55\n",
      "74/74 [==============================] - 11s 145ms/step - loss: 0.0023\n",
      "Epoch 52/55\n",
      "74/74 [==============================] - 11s 144ms/step - loss: 0.0022\n",
      "Epoch 53/55\n",
      "74/74 [==============================] - 11s 145ms/step - loss: 0.0021\n",
      "Epoch 54/55\n",
      "74/74 [==============================] - 11s 145ms/step - loss: 0.0020\n",
      "Epoch 55/55\n",
      "74/74 [==============================] - 11s 145ms/step - loss: 0.0021\n"
     ]
    },
    {
     "data": {
      "text/plain": [
       "<keras.callbacks.History at 0x1f86513d9a0>"
      ]
     },
     "execution_count": 27,
     "metadata": {},
     "output_type": "execute_result"
    }
   ],
   "source": [
    "model.compile(optimizer = 'adam',loss = 'mean_squared_error')\n",
    "model.fit(x_train,y_train,epochs=55)"
   ]
  },
  {
   "cell_type": "code",
   "execution_count": 28,
   "id": "daec25de",
   "metadata": {},
   "outputs": [],
   "source": [
    "model.save('keras_model.h5')\n"
   ]
  },
  {
   "cell_type": "code",
   "execution_count": 30,
   "id": "de5c2e50",
   "metadata": {},
   "outputs": [],
   "source": [
    "past_100_days = data_training.tail(100)"
   ]
  },
  {
   "cell_type": "code",
   "execution_count": 31,
   "id": "2b074a66",
   "metadata": {},
   "outputs": [],
   "source": [
    "final_df = past_100_days.append(data_testing,ignore_index=True)"
   ]
  },
  {
   "cell_type": "code",
   "execution_count": 32,
   "id": "2768d6b6",
   "metadata": {},
   "outputs": [
    {
     "data": {
      "text/html": [
       "<div>\n",
       "<style scoped>\n",
       "    .dataframe tbody tr th:only-of-type {\n",
       "        vertical-align: middle;\n",
       "    }\n",
       "\n",
       "    .dataframe tbody tr th {\n",
       "        vertical-align: top;\n",
       "    }\n",
       "\n",
       "    .dataframe thead th {\n",
       "        text-align: right;\n",
       "    }\n",
       "</style>\n",
       "<table border=\"1\" class=\"dataframe\">\n",
       "  <thead>\n",
       "    <tr style=\"text-align: right;\">\n",
       "      <th></th>\n",
       "      <th>Close</th>\n",
       "    </tr>\n",
       "  </thead>\n",
       "  <tbody>\n",
       "    <tr>\n",
       "      <th>0</th>\n",
       "      <td>38.402500</td>\n",
       "    </tr>\n",
       "    <tr>\n",
       "      <th>1</th>\n",
       "      <td>38.417500</td>\n",
       "    </tr>\n",
       "    <tr>\n",
       "      <th>2</th>\n",
       "      <td>38.189999</td>\n",
       "    </tr>\n",
       "    <tr>\n",
       "      <th>3</th>\n",
       "      <td>38.294998</td>\n",
       "    </tr>\n",
       "    <tr>\n",
       "      <th>4</th>\n",
       "      <td>38.862499</td>\n",
       "    </tr>\n",
       "  </tbody>\n",
       "</table>\n",
       "</div>"
      ],
      "text/plain": [
       "       Close\n",
       "0  38.402500\n",
       "1  38.417500\n",
       "2  38.189999\n",
       "3  38.294998\n",
       "4  38.862499"
      ]
     },
     "execution_count": 32,
     "metadata": {},
     "output_type": "execute_result"
    }
   ],
   "source": [
    "final_df.head()"
   ]
  },
  {
   "cell_type": "code",
   "execution_count": 34,
   "id": "b318177a",
   "metadata": {},
   "outputs": [
    {
     "data": {
      "text/plain": [
       "(1159, 1)"
      ]
     },
     "execution_count": 34,
     "metadata": {},
     "output_type": "execute_result"
    }
   ],
   "source": [
    "input_data = scaler.fit_transform(final_df)\n",
    "input_data\n",
    "input_data.shape"
   ]
  },
  {
   "cell_type": "code",
   "execution_count": 36,
   "id": "1f63af96",
   "metadata": {},
   "outputs": [],
   "source": [
    "x_test = []\n",
    "y_test = []\n",
    "for i in range(100,input_data.shape[0]):\n",
    "    x_test.append(input_data[i-100: i])\n",
    "    y_test.append(input_data[i,0])"
   ]
  },
  {
   "cell_type": "code",
   "execution_count": 37,
   "id": "4f28d936",
   "metadata": {},
   "outputs": [
    {
     "name": "stdout",
     "output_type": "stream",
     "text": [
      "(1059, 100, 1)\n",
      "(1059,)\n"
     ]
    }
   ],
   "source": [
    "x_test,y_test = np.array(x_test),np.array(y_test)\n",
    "print(x_test.shape)\n",
    "print(y_test.shape)"
   ]
  },
  {
   "cell_type": "code",
   "execution_count": 38,
   "id": "63144ac2",
   "metadata": {},
   "outputs": [
    {
     "name": "stdout",
     "output_type": "stream",
     "text": [
      "34/34 [==============================] - 2s 46ms/step\n"
     ]
    }
   ],
   "source": [
    "# making predictions\n",
    "\n",
    "y_pred = model.predict(x_test)"
   ]
  },
  {
   "cell_type": "code",
   "execution_count": 39,
   "id": "25a14e34",
   "metadata": {},
   "outputs": [
    {
     "data": {
      "text/plain": [
       "(1059, 1)"
      ]
     },
     "execution_count": 39,
     "metadata": {},
     "output_type": "execute_result"
    }
   ],
   "source": [
    "y_pred.shape"
   ]
  },
  {
   "cell_type": "code",
   "execution_count": 40,
   "id": "abe5512f",
   "metadata": {},
   "outputs": [
    {
     "data": {
      "text/plain": [
       "array([0.00690691])"
      ]
     },
     "execution_count": 40,
     "metadata": {},
     "output_type": "execute_result"
    }
   ],
   "source": [
    "scaler.scale_"
   ]
  },
  {
   "cell_type": "code",
   "execution_count": 41,
   "id": "ad632150",
   "metadata": {},
   "outputs": [],
   "source": [
    "scaler_factor = 1/0.00690691\n",
    "y_pred = y_pred * scaler_factor\n",
    "y_test = y_test * scaler_factor"
   ]
  },
  {
   "cell_type": "code",
   "execution_count": 43,
   "id": "8276095e",
   "metadata": {},
   "outputs": [
    {
     "data": {
      "image/png": "[encoded data removed]",
      "text/plain": [
       "<Figure size 864x432 with 1 Axes>"
      ]
     },
     "metadata": {
      "needs_background": "light"
     },
     "output_type": "display_data"
    }
   ],
   "source": [
    "plt.figure(figsize=(12,6))\n",
    "plt.plot(y_test,'b',label = 'Original Price')\n",
    "plt.plot(y_pred,'r',label = 'Predicted Price')\n",
    "plt.xlabel('Time')\n",
    "plt.ylabel('Price')\n",
    "plt.legend()\n",
    "plt.show()"
   ]
  },
  {
   "cell_type": "code",
   "execution_count": null,
   "id": "4bf85b15",
   "metadata": {},
   "outputs": [],
   "source": []
  }
 ],
 "metadata": {
  "kernelspec": {
   "display_name": "Python 3 (ipykernel)",
   "language": "python",
   "name": "python3"
  },
  "language_info": {
   "codemirror_mode": {
    "name": "ipython",
    "version": 3
   },
   "file_extension": ".py",
   "mimetype": "text/x-python",
   "name": "python",
   "nbconvert_exporter": "python",
   "pygments_lexer": "ipython3",
   "version": "3.9.7"
  }
 },
 "nbformat": 4,
 "nbformat_minor": 5
}
